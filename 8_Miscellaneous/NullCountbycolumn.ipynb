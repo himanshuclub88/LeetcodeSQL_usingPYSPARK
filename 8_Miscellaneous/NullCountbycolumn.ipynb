{
 "cells": [
  {
   "cell_type": "code",
   "execution_count": 1,
   "id": "4a413f96",
   "metadata": {},
   "outputs": [
    {
     "name": "stdout",
     "output_type": "stream",
     "text": [
      "+----+-------+----------+\n",
      "|  id|   name|department|\n",
      "+----+-------+----------+\n",
      "|   1|  Alice|      NULL|\n",
      "|   2|   NULL|        HR|\n",
      "|   3|Charlie|        IT|\n",
      "|NULL|  David|   Finance|\n",
      "|   5|   NULL|      NULL|\n",
      "+----+-------+----------+\n",
      "\n"
     ]
    }
   ],
   "source": [
    "from pyspark.sql import SparkSession\n",
    "from pyspark.sql.functions import *\n",
    "\n",
    "import findspark\n",
    "findspark.init()\n",
    "\n",
    "# Create Spark session\n",
    "spark = SparkSession.builder.master('local').appName(\"NullCountExample\").getOrCreate()\n",
    "\n",
    "# Sample data\n",
    "data = [\n",
    "    (1, \"Alice\", None),\n",
    "    (2, None, \"HR\"),\n",
    "    (3, \"Charlie\", \"IT\"),\n",
    "    (None, \"David\", \"Finance\"),\n",
    "    (5, None, None)\n",
    "]\n",
    "\n",
    "columns = [\"id\", \"name\", \"department\"]\n",
    "\n",
    "# Create DataFrame\n",
    "df = spark.createDataFrame(data, columns)\n",
    "\n",
    "# Show the DataFrame\n",
    "df.show()\n"
   ]
  },
  {
   "cell_type": "code",
   "execution_count": null,
   "id": "3cd741f2",
   "metadata": {},
   "outputs": [
    {
     "name": "stdout",
     "output_type": "stream",
     "text": [
      "+---------+-----------+-----------------+\n",
      "|count(id)|count(name)|count(department)|\n",
      "+---------+-----------+-----------------+\n",
      "|        4|          3|                3|\n",
      "+---------+-----------+-----------------+\n",
      "\n"
     ]
    }
   ],
   "source": [
    "#let first count each column count\n",
    "df.select([count(c) for c in df.columns]).show() #another example"
   ]
  },
  {
   "cell_type": "code",
   "execution_count": 10,
   "id": "0c1e4de5",
   "metadata": {},
   "outputs": [
    {
     "name": "stdout",
     "output_type": "stream",
     "text": [
      "+---+----+----------+\n",
      "| id|name|department|\n",
      "+---+----+----------+\n",
      "|  1|   2|         2|\n",
      "+---+----+----------+\n",
      "\n"
     ]
    }
   ],
   "source": [
    "#answer\n",
    "null_counts = df.select(\n",
    "    [ sum(when(col(c).isNull(), 1).otherwise(0)).alias(c) for c in df.columns]\n",
    "    )\n",
    "\n",
    "null_counts.show()\n"
   ]
  },
  {
   "cell_type": "code",
   "execution_count": null,
   "id": "5ab89ce2",
   "metadata": {},
   "outputs": [
    {
     "name": "stdout",
     "output_type": "stream",
     "text": [
      "[Column<'sum(CASE WHEN (id IS NULL) THEN 1 ELSE 0 END) AS id'>, Column<'sum(CASE WHEN (name IS NULL) THEN 1 ELSE 0 END) AS name'>, Column<'sum(CASE WHEN (department IS NULL) THEN 1 ELSE 0 END) AS department'>]\n"
     ]
    }
   ],
   "source": [
    "#this is how it is working\n",
    "k=[sum(when(col(c).isNull(), 1).otherwise(0)).alias(c) for c in df.columns]\n",
    "print(k)"
   ]
  },
  {
   "cell_type": "code",
   "execution_count": 16,
   "id": "68951270",
   "metadata": {},
   "outputs": [],
   "source": [
    "null_counts.createOrReplaceTempView('nullcount')"
   ]
  },
  {
   "cell_type": "code",
   "execution_count": 17,
   "id": "d63e8e82",
   "metadata": {
    "vscode": {
     "languageId": "sql"
    }
   },
   "outputs": [
    {
     "name": "stdout",
     "output_type": "stream",
     "text": [
      "+---+----+----------+\n",
      "| id|name|department|\n",
      "+---+----+----------+\n",
      "|  1|   2|         2|\n",
      "+---+----+----------+\n",
      "\n"
     ]
    }
   ],
   "source": [
    "%%sql\n",
    "select * from nullcount\n"
   ]
  }
 ],
 "metadata": {
  "kernelspec": {
   "display_name": "Python 3",
   "language": "python",
   "name": "python3"
  },
  "language_info": {
   "codemirror_mode": {
    "name": "ipython",
    "version": 3
   },
   "file_extension": ".py",
   "mimetype": "text/x-python",
   "name": "python",
   "nbconvert_exporter": "python",
   "pygments_lexer": "ipython3",
   "version": "3.11.0"
  }
 },
 "nbformat": 4,
 "nbformat_minor": 5
}
