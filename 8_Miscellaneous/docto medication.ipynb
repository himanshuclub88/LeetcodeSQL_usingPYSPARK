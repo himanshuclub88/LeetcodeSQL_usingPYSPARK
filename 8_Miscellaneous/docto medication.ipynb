{
 "cells": [
  {
   "cell_type": "markdown",
   "id": "669d0e80",
   "metadata": {},
   "source": [
    "Find the medications that were prescribed by at least three different doctors.\n",
    "Relevant DF: \n",
    "df1 = medications (medication_id, medication_name), \n",
    "df2 = prescriptions (prescription_id, doctor_id, medication_id)"
   ]
  },
  {
   "cell_type": "code",
   "execution_count": 2,
   "id": "c006b7c0",
   "metadata": {},
   "outputs": [],
   "source": [
    "from pyspark.sql import SparkSession\n",
    "from pyspark.sql.functions import *\n",
    "from pyspark.sql.types import *\n",
    "\n",
    "medications_data = [\n",
    "    (1, \"Medication A\"),\n",
    "    (2, \"Medication B\"),\n",
    "    (3, \"Medication C\"),\n",
    "    (4, \"Medication D\"),\n",
    "    (5, \"Medication E\")\n",
    "]\n",
    "\n",
    "prescriptions_data = [\n",
    "    (1, 1, 1),\n",
    "    (2, 2, 1),\n",
    "    (3, 3, 1),\n",
    "    (4, 1, 2),\n",
    "    (5, 2, 2),\n",
    "    (6, 3, 2),\n",
    "    (7, 1, 3),\n",
    "    (8, 2, 4),\n",
    "    (9, 3, 4),\n",
    "    (10, 4, 5),\n",
    "    (11, 5, 5),\n",
    "    (12, 6, 5)\n",
    "]\n",
    "\n",
    "spark= SparkSession.builder.getOrCreate()\n",
    "\n",
    "medications_df = spark.createDataFrame(medications_data, [\"medication_id\", \"medication_name\"])\n",
    "prescriptions_df = spark.createDataFrame(prescriptions_data, [\"prescription_id\", \"doctor_id\", \"medication_id\"])"
   ]
  },
  {
   "cell_type": "code",
   "execution_count": 3,
   "id": "ec8ad545",
   "metadata": {},
   "outputs": [
    {
     "name": "stdout",
     "output_type": "stream",
     "text": [
      "+-------------+---------------+\n",
      "|medication_id|medication_name|\n",
      "+-------------+---------------+\n",
      "|            1|   Medication A|\n",
      "|            2|   Medication B|\n",
      "|            3|   Medication C|\n",
      "|            4|   Medication D|\n",
      "|            5|   Medication E|\n",
      "+-------------+---------------+\n",
      "\n",
      "+---------------+---------+-------------+\n",
      "|prescription_id|doctor_id|medication_id|\n",
      "+---------------+---------+-------------+\n",
      "|              1|        1|            1|\n",
      "|              2|        2|            1|\n",
      "|              3|        3|            1|\n",
      "|              4|        1|            2|\n",
      "|              5|        2|            2|\n",
      "|              6|        3|            2|\n",
      "|              7|        1|            3|\n",
      "|              8|        2|            4|\n",
      "|              9|        3|            4|\n",
      "|             10|        4|            5|\n",
      "|             11|        5|            5|\n",
      "|             12|        6|            5|\n",
      "+---------------+---------+-------------+\n",
      "\n"
     ]
    }
   ],
   "source": [
    "medications_df.show()\n",
    "prescriptions_df.show()"
   ]
  },
  {
   "cell_type": "code",
   "execution_count": 9,
   "id": "70b1acd7",
   "metadata": {},
   "outputs": [
    {
     "name": "stdout",
     "output_type": "stream",
     "text": [
      "+-------------+---------------+\n",
      "|medication_id|medication_name|\n",
      "+-------------+---------------+\n",
      "|            1|   Medication A|\n",
      "|            2|   Medication B|\n",
      "|            5|   Medication E|\n",
      "+-------------+---------------+\n",
      "\n"
     ]
    }
   ],
   "source": [
    "prescriptions_df\\\n",
    "    .groupBy(col('medication_id')).agg(countDistinct('doctor_id').alias('c'))\\\n",
    "    .where('c>2')\\\n",
    "    .select('medication_id')\\\n",
    "    .join(medications_df,['medication_id'],'inner')\\\n",
    "    .show()"
   ]
  }
 ],
 "metadata": {
  "kernelspec": {
   "display_name": "Python 3",
   "language": "python",
   "name": "python3"
  },
  "language_info": {
   "codemirror_mode": {
    "name": "ipython",
    "version": 3
   },
   "file_extension": ".py",
   "mimetype": "text/x-python",
   "name": "python",
   "nbconvert_exporter": "python",
   "pygments_lexer": "ipython3",
   "version": "3.11.0"
  }
 },
 "nbformat": 4,
 "nbformat_minor": 5
}
