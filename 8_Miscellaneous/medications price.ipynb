{
 "cells": [
  {
   "cell_type": "markdown",
   "id": "e9dea3f7",
   "metadata": {},
   "source": [
    "Calculate the average price for each medication category.\n",
    "   Relevant columns: medications (medication_id, medication_name, category_id)\n",
    "   medication_prices (medication_id, price)"
   ]
  },
  {
   "cell_type": "code",
   "execution_count": 2,
   "id": "7930acf8",
   "metadata": {},
   "outputs": [],
   "source": [
    "from pyspark.sql import SparkSession\n",
    "from pyspark.sql.functions import *\n",
    "from pyspark.sql.types import *\n",
    "\n",
    "\n",
    "spark = SparkSession.builder.getOrCreate()\n",
    "\n",
    "medications_data = [\n",
    "    (1, \"Medication A\", 1),\n",
    "    (2, \"Medication B\", 1),\n",
    "    (3, \"Medication C\", 2),\n",
    "    (4, \"Medication D\", 2),\n",
    "    (5, \"Medication E\", 3)\n",
    "]\n",
    "\n",
    "medication_prices_data = [\n",
    "    (1, 10.50),\n",
    "    (2, 20.75),\n",
    "    (3, 15.25),\n",
    "    (4, 25.00),\n",
    "    (5, 12.50)\n",
    "]\n",
    "\n",
    "medications_df = spark.createDataFrame(medications_data, [\"medication_id\", \"medication_name\", \"category_id\"])\n",
    "medication_prices_df = spark.createDataFrame(medication_prices_data, [\"medication_id\", \"price\"])\n"
   ]
  },
  {
   "cell_type": "code",
   "execution_count": 3,
   "id": "84582533",
   "metadata": {},
   "outputs": [
    {
     "name": "stdout",
     "output_type": "stream",
     "text": [
      "+-------------+---------------+-----------+\n",
      "|medication_id|medication_name|category_id|\n",
      "+-------------+---------------+-----------+\n",
      "|            1|   Medication A|          1|\n",
      "|            2|   Medication B|          1|\n",
      "|            3|   Medication C|          2|\n",
      "|            4|   Medication D|          2|\n",
      "|            5|   Medication E|          3|\n",
      "+-------------+---------------+-----------+\n",
      "\n",
      "+-------------+-----+\n",
      "|medication_id|price|\n",
      "+-------------+-----+\n",
      "|            1| 10.5|\n",
      "|            2|20.75|\n",
      "|            3|15.25|\n",
      "|            4| 25.0|\n",
      "|            5| 12.5|\n",
      "+-------------+-----+\n",
      "\n"
     ]
    }
   ],
   "source": [
    "medications_df.show()\n",
    "medication_prices_df.show()"
   ]
  },
  {
   "cell_type": "code",
   "execution_count": 5,
   "id": "98ac4c94",
   "metadata": {},
   "outputs": [
    {
     "name": "stdout",
     "output_type": "stream",
     "text": [
      "+-----------+----------+\n",
      "|category_id|avg(price)|\n",
      "+-----------+----------+\n",
      "|          1|    15.625|\n",
      "|          3|      12.5|\n",
      "|          2|    20.125|\n",
      "+-----------+----------+\n",
      "\n"
     ]
    }
   ],
   "source": [
    "medications_df.join(medication_prices_df,['medication_id'])\\\n",
    "    .groupBy('category_id').agg(avg('price'))\\\n",
    "    .show()"
   ]
  },
  {
   "cell_type": "code",
   "execution_count": null,
   "id": "1879ee23",
   "metadata": {},
   "outputs": [],
   "source": [
    "from pyspark.sql.window import Window\n",
    "win = Window.partitionBy('category_id').orderBy('price').rowsBetween()\n",
    "\n"
   ]
  }
 ],
 "metadata": {
  "kernelspec": {
   "display_name": "Python 3",
   "language": "python",
   "name": "python3"
  },
  "language_info": {
   "codemirror_mode": {
    "name": "ipython",
    "version": 3
   },
   "file_extension": ".py",
   "mimetype": "text/x-python",
   "name": "python",
   "nbconvert_exporter": "python",
   "pygments_lexer": "ipython3",
   "version": "3.11.0"
  }
 },
 "nbformat": 4,
 "nbformat_minor": 5
}
