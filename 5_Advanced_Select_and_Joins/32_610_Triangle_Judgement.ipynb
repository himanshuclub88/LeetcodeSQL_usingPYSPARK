{
 "cells": [
  {
   "cell_type": "markdown",
   "id": "b7cdf68175c57bd2",
   "metadata": {
    "collapsed": false,
    "id": "b7cdf68175c57bd2"
   },
   "source": [
    "# [610. Triangle Judgement](https://leetcode.com/problems/triangle-judgement/description/?envType=study-plan-v2&envId=top-sql-50)"
   ]
  },
  {
   "cell_type": "markdown",
   "id": "50333c32fc5baae7",
   "metadata": {
    "collapsed": false,
    "id": "50333c32fc5baae7"
   },
   "source": [
    "Table: Triangle\n",
    "\n",
    "<pre>+-------------+------+\n",
    "| Column Name | Type |\n",
    "+-------------+------+\n",
    "| x           | int  |\n",
    "| y           | int  |\n",
    "| z           | int  |\n",
    "+-------------+------+</pre>\n",
    "In SQL, (x, y, z) is the primary key column for this table.\n",
    "Each row of this table contains the lengths of three line segments.\n",
    "\n",
    "\n",
    "Report for every three line segments whether they can form a triangle.\n",
    "\n",
    "Return the result table in any order.\n",
    "\n",
    "The result format is in the following example.\n",
    "\n",
    "\n",
    "\n",
    "Example 1:\n",
    "\n",
    "Input:\n",
    "Triangle table:\n",
    "<pre>+----+----+----+\n",
    "| x  | y  | z  |\n",
    "+----+----+----+\n",
    "| 13 | 15 | 30 |\n",
    "| 10 | 20 | 15 |\n",
    "+----+----+----+</pre>\n",
    "Output:\n",
    "<pre>+----+----+----+----------+\n",
    "| x  | y  | z  | triangle |\n",
    "+----+----+----+----------+\n",
    "| 13 | 15 | 30 | No       |\n",
    "| 10 | 20 | 15 | Yes      |\n",
    "+----+----+----+----------+</pre>"
   ]
  },
  {
   "cell_type": "code",
   "execution_count": 1,
   "id": "7bd40a95535e4c4f",
   "metadata": {
    "ExecuteTime": {
     "end_time": "2023-11-05T19:20:16.521870400Z",
     "start_time": "2023-11-05T19:20:15.813181700Z"
    },
    "colab": {
     "base_uri": "https://localhost:8080/"
    },
    "executionInfo": {
     "elapsed": 29486,
     "status": "ok",
     "timestamp": 1743247417997,
     "user": {
      "displayName": "Himanshu Singh",
      "userId": "04013931203390313061"
     },
     "user_tz": -330
    },
    "id": "7bd40a95535e4c4f",
    "outputId": "f68b79ef-1cb5-44dc-9daf-3b06b776bdd6"
   },
   "outputs": [
    {
     "name": "stdout",
     "output_type": "stream",
     "text": [
      "+---+---+---+\n",
      "|  x|  y|  z|\n",
      "+---+---+---+\n",
      "| 13| 15| 30|\n",
      "| 10| 20| 15|\n",
      "+---+---+---+\n",
      "\n"
     ]
    }
   ],
   "source": [
    "# pandas schema\n",
    "\n",
    "import pandas as pd\n",
    "\n",
    "data = [[13, 15, 30], [10, 20, 15]]\n",
    "triangle = pd.DataFrame(data, columns=['x', 'y', 'z']).astype({'x': 'Int64', 'y': 'Int64', 'z': 'Int64'})\n",
    "\n",
    "# Converting to pyspask schema\n",
    "\n",
    "from pyspark.sql import SparkSession\n",
    "from pyspark.sql.functions import *\n",
    "\n",
    "spark = SparkSession.builder.getOrCreate()\n",
    "\n",
    "triangle_df = spark.createDataFrame(triangle)\n",
    "triangle_df.show()"
   ]
  },
  {
   "cell_type": "code",
   "execution_count": 2,
   "id": "YGNi00PxuJeF",
   "metadata": {
    "colab": {
     "base_uri": "https://localhost:8080/"
    },
    "executionInfo": {
     "elapsed": 1089,
     "status": "ok",
     "timestamp": 1743248749242,
     "user": {
      "displayName": "Himanshu Singh",
      "userId": "04013931203390313061"
     },
     "user_tz": -330
    },
    "id": "YGNi00PxuJeF",
    "outputId": "01bade84-2e78-4658-dbd1-f1752ec384dd"
   },
   "outputs": [
    {
     "name": "stdout",
     "output_type": "stream",
     "text": [
      "+---+---+---+--------+\n",
      "|  x|  y|  z|triangle|\n",
      "+---+---+---+--------+\n",
      "| 13| 15| 30|      No|\n",
      "| 10| 20| 15|     Yes|\n",
      "+---+---+---+--------+\n",
      "\n"
     ]
    }
   ],
   "source": [
    "#in dataFrame\n",
    "\n",
    "triangle_df.withColumn('triangle',when( (col('x')+col('y') > col('z')) & (col('z')+col('y') > col('x')) & (col('x')+col('z') > col('y')),'Yes').otherwise('No'))\\\n",
    "           .show()"
   ]
  },
  {
   "cell_type": "code",
   "execution_count": 3,
   "id": "asi_dtoiuQLw",
   "metadata": {
    "colab": {
     "base_uri": "https://localhost:8080/"
    },
    "executionInfo": {
     "elapsed": 498,
     "status": "ok",
     "timestamp": 1743248763690,
     "user": {
      "displayName": "Himanshu Singh",
      "userId": "04013931203390313061"
     },
     "user_tz": -330
    },
    "id": "asi_dtoiuQLw",
    "outputId": "8680cab2-58a3-47b7-b553-4bcb60987e46"
   },
   "outputs": [
    {
     "name": "stdout",
     "output_type": "stream",
     "text": [
      "+---+---+---+--------+\n",
      "|  x|  y|  z|triangle|\n",
      "+---+---+---+--------+\n",
      "| 13| 15| 30|      No|\n",
      "| 10| 20| 15|     Yes|\n",
      "+---+---+---+--------+\n",
      "\n"
     ]
    }
   ],
   "source": [
    "#using expr\n",
    "triangle_df.withColumn('triangle',expr(\"case when (x+y) > z and (x+z) > y and (z+y) > x then 'Yes' else 'No' end\"))\\\n",
    "           .show()"
   ]
  },
  {
   "cell_type": "code",
   "execution_count": 4,
   "id": "cd9960cce42bc872",
   "metadata": {
    "ExecuteTime": {
     "end_time": "2023-11-05T19:20:33.079556700Z",
     "start_time": "2023-11-05T19:20:16.531309500Z"
    },
    "colab": {
     "base_uri": "https://localhost:8080/"
    },
    "executionInfo": {
     "elapsed": 1396,
     "status": "ok",
     "timestamp": 1743248708484,
     "user": {
      "displayName": "Himanshu Singh",
      "userId": "04013931203390313061"
     },
     "user_tz": -330
    },
    "id": "cd9960cce42bc872",
    "outputId": "d5b67495-d1a9-404b-a115-1689e67166d4"
   },
   "outputs": [
    {
     "name": "stdout",
     "output_type": "stream",
     "text": [
      "+---+---+---+--------+\n",
      "|  x|  y|  z|triangle|\n",
      "+---+---+---+--------+\n",
      "| 13| 15| 30|      No|\n",
      "| 10| 20| 15|     Yes|\n",
      "+---+---+---+--------+\n",
      "\n"
     ]
    }
   ],
   "source": [
    "# In spark SQL\n",
    "\n",
    "triangle_df.createOrReplaceTempView('triangle')\n",
    "\n",
    "spark.sql('''\n",
    "select *,\n",
    "case\n",
    "    when (x+y) > z and (x+z) > y and (z+y) > x then 'Yes' else 'No'\n",
    "end as triangle\n",
    "from Triangle\n",
    "''').show()"
   ]
  },
  {
   "cell_type": "code",
   "execution_count": 5,
   "id": "3c4066ea4bd46156",
   "metadata": {
    "ExecuteTime": {
     "end_time": "2023-11-05T19:20:35.930377900Z",
     "start_time": "2023-11-05T19:20:33.076910700Z"
    },
    "colab": {
     "base_uri": "https://localhost:8080/"
    },
    "executionInfo": {
     "elapsed": 2434,
     "status": "ok",
     "timestamp": 1743247785754,
     "user": {
      "displayName": "Himanshu Singh",
      "userId": "04013931203390313061"
     },
     "user_tz": -330
    },
    "id": "3c4066ea4bd46156",
    "outputId": "fcd499de-89e2-4db6-ed6d-b75135831c02"
   },
   "outputs": [
    {
     "name": "stdout",
     "output_type": "stream",
     "text": [
      "+---+---+---+--------+\n",
      "|  x|  y|  z|triangle|\n",
      "+---+---+---+--------+\n",
      "| 13| 15| 30|      No|\n",
      "| 10| 20| 15|     Yes|\n",
      "+---+---+---+--------+\n",
      "\n"
     ]
    }
   ],
   "source": [
    "# in udf pyspark\n",
    "\n",
    "from pyspark.sql.types import StringType\n",
    "\n",
    "\n",
    "def is_triangle(x, y, z):\n",
    "    if x + y > z and x + z > y and y + z > x:\n",
    "        return \"Yes\"\n",
    "    return \"No\"\n",
    "\n",
    "\n",
    "udf_is_triangle = udf(is_triangle, StringType())\n",
    "\n",
    "triangle_df.withColumn('triangle', udf_is_triangle('x','y','z')).show()"
   ]
  },
  {
   "cell_type": "code",
   "execution_count": 7,
   "id": "5a7bf257200245f3",
   "metadata": {
    "ExecuteTime": {
     "end_time": "2023-11-05T19:20:37.426824700Z",
     "start_time": "2023-11-05T19:20:35.909490100Z"
    },
    "colab": {
     "base_uri": "https://localhost:8080/",
     "height": 211
    },
    "executionInfo": {
     "elapsed": 14,
     "status": "error",
     "timestamp": 1743247358709,
     "user": {
      "displayName": "Himanshu Singh",
      "userId": "04013931203390313061"
     },
     "user_tz": -330
    },
    "id": "5a7bf257200245f3",
    "outputId": "810a9273-8cbd-4437-bc68-7776a6f6680e"
   },
   "outputs": [
    {
     "name": "stdout",
     "output_type": "stream",
     "text": [
      "+---+---+---+--------+\n",
      "|  x|  y|  z|triangle|\n",
      "+---+---+---+--------+\n",
      "| 13| 15| 30|      No|\n",
      "| 10| 20| 15|     Yes|\n",
      "+---+---+---+--------+\n",
      "\n"
     ]
    }
   ],
   "source": [
    "# In spark SQL\n",
    "\n",
    "triangle_df.createOrReplaceTempView('triangle')\n",
    "spark.udf.register('udf_is_triangle',is_triangle)\n",
    "\n",
    "spark.sql('''\n",
    "select x,y,z, udf_is_triangle(x,y,z) as triangle from triangle;\n",
    "''').show()"
   ]
  },
  {
   "cell_type": "code",
   "execution_count": null,
   "id": "a429722809f4abfb",
   "metadata": {
    "ExecuteTime": {
     "end_time": "2023-11-05T19:20:38.346162600Z",
     "start_time": "2023-11-05T19:20:37.410624800Z"
    },
    "id": "a429722809f4abfb"
   },
   "outputs": [],
   "source": [
    "spark.stop()"
   ]
  },
  {
   "cell_type": "code",
   "execution_count": null,
   "id": "c52e6c678a66d6db",
   "metadata": {
    "ExecuteTime": {
     "end_time": "2023-11-05T19:20:38.422969700Z",
     "start_time": "2023-11-05T19:20:38.333330700Z"
    },
    "id": "c52e6c678a66d6db"
   },
   "outputs": [],
   "source": []
  }
 ],
 "metadata": {
  "colab": {
   "provenance": []
  },
  "kernelspec": {
   "display_name": "Python 3",
   "language": "python",
   "name": "python3"
  },
  "language_info": {
   "codemirror_mode": {
    "name": "ipython",
    "version": 3
   },
   "file_extension": ".py",
   "mimetype": "text/x-python",
   "name": "python",
   "nbconvert_exporter": "python",
   "pygments_lexer": "ipython3",
   "version": "3.11.0"
  }
 },
 "nbformat": 4,
 "nbformat_minor": 5
}
