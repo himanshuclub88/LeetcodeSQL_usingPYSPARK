{
 "cells": [
  {
   "cell_type": "markdown",
   "id": "5a245850859ae372",
   "metadata": {
    "collapsed": false,
    "id": "5a245850859ae372"
   },
   "source": [
    "# [180. Consecutive Numbers](https://leetcode.com/problems/consecutive-numbers/description/?envType=study-plan-v2&envId=top-sql-50)"
   ]
  },
  {
   "cell_type": "markdown",
   "id": "572a25466afbec94",
   "metadata": {
    "collapsed": false,
    "id": "572a25466afbec94"
   },
   "source": [
    "Table: Logs\n",
    "\n",
    "<pre>+-------------+---------+\n",
    "| Column Name | Type    |\n",
    "+-------------+---------+\n",
    "| id          | int     |\n",
    "| num         | varchar |\n",
    "+-------------+---------+</pre>\n",
    "In SQL, id is the primary key for this table.\n",
    "id is an autoincrement column.\n",
    "\n",
    "\n",
    "Find all numbers that appear at least three times consecutively.\n",
    "\n",
    "Return the result table in any order.\n",
    "\n",
    "The result format is in the following example.\n",
    "\n",
    "\n",
    "\n",
    "Example 1:\n",
    "\n",
    "Input:\n",
    "Logs table:\n",
    "<pre>+----+-----+\n",
    "| id | num |\n",
    "+----+-----+\n",
    "| 1  | 1   |\n",
    "| 2  | 1   |\n",
    "| 3  | 1   |\n",
    "| 4  | 2   |\n",
    "| 5  | 1   |\n",
    "| 6  | 2   |\n",
    "| 7  | 2   |\n",
    "+----+-----+</pre>\n",
    "Output:\n",
    "<pre>+-----------------+\n",
    "| ConsecutiveNums |\n",
    "+-----------------+\n",
    "| 1               |\n",
    "+-----------------+</pre>\n",
    "Explanation: 1 is the only number that appears consecutively for at least three times."
   ]
  },
  {
   "cell_type": "code",
   "execution_count": 3,
   "id": "22cfc6b399b0dcb6",
   "metadata": {
    "ExecuteTime": {
     "end_time": "2023-11-05T19:21:56.379467600Z",
     "start_time": "2023-11-05T19:21:55.701484400Z"
    },
    "colab": {
     "base_uri": "https://localhost:8080/"
    },
    "executionInfo": {
     "elapsed": 694,
     "status": "ok",
     "timestamp": 1743249264311,
     "user": {
      "displayName": "Himanshu Singh",
      "userId": "04013931203390313061"
     },
     "user_tz": -330
    },
    "id": "22cfc6b399b0dcb6",
    "outputId": "a89587de-8b7d-4826-ccd6-1e24552a688e"
   },
   "outputs": [
    {
     "name": "stdout",
     "output_type": "stream",
     "text": [
      "+---+---+\n",
      "|id |num|\n",
      "+---+---+\n",
      "|1  |1  |\n",
      "|2  |1  |\n",
      "|3  |1  |\n",
      "|4  |2  |\n",
      "|5  |1  |\n",
      "|6  |2  |\n",
      "|7  |2  |\n",
      "+---+---+\n",
      "\n"
     ]
    }
   ],
   "source": [
    "#pandas schema\n",
    "\n",
    "import pandas as pd\n",
    "\n",
    "data = [[1, 1], [2, 1], [3, 1], [4, 2], [5, 1], [6, 2], [7, 2]]\n",
    "logs = pd.DataFrame(data, columns=['id', 'num']).astype({'id':'Int64', 'num':'Int64'})\n",
    "\n",
    "# to spark schema\n",
    "from pyspark.sql.functions import *\n",
    "from pyspark.sql import SparkSession\n",
    "\n",
    "spark = SparkSession.builder.getOrCreate()\n",
    "\n",
    "logs_df = spark.createDataFrame(logs)\n",
    "logs_df.show(truncate=False)"
   ]
  },
  {
   "cell_type": "code",
   "execution_count": 7,
   "id": "9c647b45dc8ee9da",
   "metadata": {
    "ExecuteTime": {
     "end_time": "2023-11-05T19:22:15.973805600Z",
     "start_time": "2023-11-05T19:22:13.234751800Z"
    },
    "colab": {
     "base_uri": "https://localhost:8080/"
    },
    "executionInfo": {
     "elapsed": 2537,
     "status": "ok",
     "timestamp": 1743249271462,
     "user": {
      "displayName": "Himanshu Singh",
      "userId": "04013931203390313061"
     },
     "user_tz": -330
    },
    "id": "9c647b45dc8ee9da",
    "outputId": "be982a43-81b1-453b-de5e-16ad66ed642f"
   },
   "outputs": [
    {
     "name": "stdout",
     "output_type": "stream",
     "text": [
      "+---------------+\n",
      "|ConsecutiveNums|\n",
      "+---------------+\n",
      "|              1|\n",
      "+---------------+\n",
      "\n"
     ]
    }
   ],
   "source": [
    "# in Spark Dataframe\n",
    "from pyspark.sql.window import Window\n",
    "\n",
    "win = Window.orderBy('id')\n",
    "\n",
    "logs_df\\\n",
    "    .withColumn('ld',lead('num').over(win))\\\n",
    "    .withColumn('lg',lag('num').over(win))\\\n",
    "    .where('num=ld and ld=lg')\\\n",
    "    .select(col('num').alias('ConsecutiveNums'))\\\n",
    "    .show()\n"
   ]
  },
  {
   "cell_type": "code",
   "execution_count": 7,
   "id": "fbe69d8b8cc3845",
   "metadata": {
    "ExecuteTime": {
     "end_time": "2023-11-05T19:22:17.453451300Z",
     "start_time": "2023-11-05T19:22:15.964435400Z"
    },
    "colab": {
     "base_uri": "https://localhost:8080/"
    },
    "executionInfo": {
     "elapsed": 246,
     "status": "ok",
     "timestamp": 1743249421458,
     "user": {
      "displayName": "Himanshu Singh",
      "userId": "04013931203390313061"
     },
     "user_tz": -330
    },
    "id": "fbe69d8b8cc3845",
    "outputId": "31a2a645-b703-4b20-8c5f-0b18cbdc0209"
   },
   "outputs": [
    {
     "name": "stdout",
     "output_type": "stream",
     "text": [
      "+---------------+\n",
      "|ConsecutiveNums|\n",
      "+---------------+\n",
      "|              1|\n",
      "+---------------+\n",
      "\n"
     ]
    }
   ],
   "source": [
    "# in Spark SQL\n",
    "logs_df.createOrReplaceTempView('logs')\n",
    "spark.sql('''\n",
    "select distinct num as ConsecutiveNums\n",
    "from\n",
    "(select num,\n",
    "    lead(num) over(order by id) as ld,\n",
    "    lag(num) over(order by id) as lg\n",
    "from logs) x\n",
    "where num=ld and ld=lg\n",
    "''').show()"
   ]
  },
  {
   "cell_type": "code",
   "execution_count": null,
   "id": "3b09d0d3e7837236",
   "metadata": {
    "ExecuteTime": {
     "end_time": "2023-11-05T19:22:18.384506300Z",
     "start_time": "2023-11-05T19:22:17.444484700Z"
    },
    "id": "3b09d0d3e7837236"
   },
   "outputs": [],
   "source": [
    "spark.stop()"
   ]
  },
  {
   "cell_type": "code",
   "execution_count": null,
   "id": "506b18216e655306",
   "metadata": {
    "ExecuteTime": {
     "end_time": "2023-11-05T19:22:18.447330300Z",
     "start_time": "2023-11-05T19:22:18.368172100Z"
    },
    "id": "506b18216e655306"
   },
   "outputs": [],
   "source": []
  }
 ],
 "metadata": {
  "colab": {
   "provenance": []
  },
  "kernelspec": {
   "display_name": "Python 3",
   "language": "python",
   "name": "python3"
  },
  "language_info": {
   "codemirror_mode": {
    "name": "ipython",
    "version": 3
   },
   "file_extension": ".py",
   "mimetype": "text/x-python",
   "name": "python",
   "nbconvert_exporter": "python",
   "pygments_lexer": "ipython3",
   "version": "3.11.0"
  }
 },
 "nbformat": 4,
 "nbformat_minor": 5
}
