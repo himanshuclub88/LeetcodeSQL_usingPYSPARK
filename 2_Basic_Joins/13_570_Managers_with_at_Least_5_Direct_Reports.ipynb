{
 "cells": [
  {
   "cell_type": "markdown",
   "id": "7b89f5d7b832c834",
   "metadata": {
    "collapsed": false
   },
   "source": [
    "# [570. Managers with at Least 5 Direct Reports](https://leetcode.com/problems/managers-with-at-least-5-direct-reports/description/?envType=study-plan-v2&envId=top-sql-50)"
   ]
  },
  {
   "cell_type": "markdown",
   "id": "8b6f0434a396216b",
   "metadata": {
    "collapsed": false
   },
   "source": [
    "Table: Employee\n",
    "\n",
    "<pre>+-------------+---------+\n",
    "| Column Name | Type    |\n",
    "+-------------+---------+\n",
    "| id          | int     |\n",
    "| name        | varchar |\n",
    "| department  | varchar |\n",
    "| managerId   | int     |\n",
    "+-------------+---------+</pre>\n",
    "id is the primary key (column with unique values) for this table.\n",
    "Each row of this table indicates the name of an employee, their department, and the id of their manager.\n",
    "If managerId is null, then the employee does not have a manager.\n",
    "No employee will be the manager of themself.\n",
    " \n",
    "\n",
    "Write a solution to find managers with at least five direct reports.\n",
    "\n",
    "Return the result table in any order.\n",
    "\n",
    "The result format is in the following example.\n",
    "\n",
    " \n",
    "\n",
    "Example 1:\n",
    "\n",
    "Input: \n",
    "Employee table:\n",
    "<pre>+-----+-------+------------+-----------+\n",
    "| id  | name  | department | managerId |\n",
    "+-----+-------+------------+-----------+\n",
    "| 101 | John  | A          | None      |\n",
    "| 102 | Dan   | A          | 101       |\n",
    "| 103 | James | A          | 101       |\n",
    "| 104 | Amy   | A          | 101       |\n",
    "| 105 | Anne  | A          | 101       |\n",
    "| 106 | Ron   | B          | 101       |\n",
    "+-----+-------+------------+-----------+</pre>\n",
    "Output: \n",
    "<pre>+------+\n",
    "| name |\n",
    "+------+\n",
    "| John |\n",
    "+------+</pre>"
   ]
  },
  {
   "cell_type": "code",
   "execution_count": 1,
   "id": "c7cd1ba66f6a6cdc",
   "metadata": {
    "ExecuteTime": {
     "end_time": "2023-11-05T19:00:55.617190700Z",
     "start_time": "2023-11-05T19:00:54.882279800Z"
    },
    "collapsed": false
   },
   "outputs": [
    {
     "name": "stdout",
     "output_type": "stream",
     "text": [
      "+---+-----+----------+---------+\n",
      "|id |name |department|managerId|\n",
      "+---+-----+----------+---------+\n",
      "|101|John |A         |NULL     |\n",
      "|102|Dan  |A         |101      |\n",
      "|103|James|A         |101      |\n",
      "|104|Amy  |A         |101      |\n",
      "|105|Anne |A         |101      |\n",
      "|106|Ron  |B         |101      |\n",
      "+---+-----+----------+---------+\n",
      "\n"
     ]
    }
   ],
   "source": [
    "# Pandas schema\n",
    "\n",
    "import pandas as pd\n",
    "\n",
    "data = [[101, 'John', 'A', None], [102, 'Dan', 'A', 101], [103, 'James', 'A', 101], [104, 'Amy', 'A', 101], [105, 'Anne', 'A', 101], [106, 'Ron', 'B', 101]]\n",
    "employee = pd.DataFrame(data, columns=['id', 'name', 'department', 'managerId']).astype({'id':'Int64', 'name':'object', 'department':'object', 'managerId':'Int64'})\n",
    "\n",
    "# to pyspark schema\n",
    "\n",
    "#Importing the packages\n",
    "from pyspark.sql import SparkSession\n",
    "from pyspark.sql.types import *\n",
    "from pyspark.sql.functions import *\n",
    "\n",
    "\n",
    "\n",
    "schema = StructType([\n",
    "    StructField(\"id\", IntegerType(), True),\n",
    "    StructField(\"name\", StringType(), True),\n",
    "    StructField(\"department\", StringType(), True),\n",
    "    StructField(\"managerId\", IntegerType(), True)\n",
    "])\n",
    "\n",
    "\n",
    "spark = SparkSession.builder.getOrCreate()\n",
    "\n",
    "employee_df = spark.createDataFrame(data,schema=schema)\n",
    "employee_df.show(truncate=False)"
   ]
  },
  {
   "cell_type": "code",
   "execution_count": 2,
   "id": "9c647b45dc8ee9da",
   "metadata": {
    "ExecuteTime": {
     "end_time": "2023-11-05T19:01:15.111346200Z",
     "start_time": "2023-11-05T19:01:12.006298600Z"
    },
    "collapsed": false
   },
   "outputs": [
    {
     "name": "stdout",
     "output_type": "stream",
     "text": [
      "+----+\n",
      "|name|\n",
      "+----+\n",
      "|John|\n",
      "+----+\n",
      "\n"
     ]
    }
   ],
   "source": [
    "# in Spark Dataframe\n",
    "employee_df.alias('e1').join(employee_df.alias('e2'),col('e1.id')==col('e2.managerId'),'inner')\\\n",
    "    .groupBy('e1.id','e1.name').agg(count('*').alias(\"count\"))\\\n",
    "    .filter('count > 4')\\\n",
    "    .select('e1.name')\\\n",
    "    .show()\n"
   ]
  },
  {
   "cell_type": "code",
   "execution_count": 3,
   "id": "fbe69d8b8cc3845",
   "metadata": {
    "ExecuteTime": {
     "end_time": "2023-11-05T19:01:16.885108100Z",
     "start_time": "2023-11-05T19:01:15.100758800Z"
    },
    "collapsed": false
   },
   "outputs": [
    {
     "name": "stdout",
     "output_type": "stream",
     "text": [
      "+----+\n",
      "|NAME|\n",
      "+----+\n",
      "|John|\n",
      "+----+\n",
      "\n"
     ]
    }
   ],
   "source": [
    "# in Spark SQL\n",
    "employee_df.createOrReplaceTempView('Employee')\n",
    "spark.sql('''\n",
    "SELECT E1.NAME FROM \n",
    "EMPLOYEE E1 JOIN EMPLOYEE E2\n",
    "ON\n",
    "E1.ID=E2.MANAGERID\n",
    "GROUP BY E1.ID,E1.NAME\n",
    "HAVING COUNT(*)>4\n",
    "''').show()"
   ]
  },
  {
   "cell_type": "code",
   "execution_count": 4,
   "id": "3b09d0d3e7837236",
   "metadata": {
    "ExecuteTime": {
     "end_time": "2023-11-05T19:01:17.652441100Z",
     "start_time": "2023-11-05T19:01:16.867080500Z"
    },
    "collapsed": false
   },
   "outputs": [],
   "source": [
    "spark.stop()"
   ]
  }
 ],
 "metadata": {
  "kernelspec": {
   "display_name": "Python 3",
   "language": "python",
   "name": "python3"
  },
  "language_info": {
   "codemirror_mode": {
    "name": "ipython",
    "version": 3
   },
   "file_extension": ".py",
   "mimetype": "text/x-python",
   "name": "python",
   "nbconvert_exporter": "python",
   "pygments_lexer": "ipython3",
   "version": "3.11.0"
  }
 },
 "nbformat": 4,
 "nbformat_minor": 5
}
