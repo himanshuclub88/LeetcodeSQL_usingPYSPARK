{
 "cells": [
  {
   "cell_type": "markdown",
   "id": "e8ada24af956aa62",
   "metadata": {
    "collapsed": false
   },
   "source": [
    "# [1280. Students and Examinations](https://leetcode.com/problems/students-and-examinations/description/?envType=study-plan-v2&envId=top-sql-50)"
   ]
  },
  {
   "cell_type": "markdown",
   "id": "4d3f67c2da322ea7",
   "metadata": {
    "collapsed": false
   },
   "source": [
    "Table: Students\n",
    "\n",
    "<pre>+---------------+---------+\n",
    "| Column Name   | Type    |\n",
    "+---------------+---------+\n",
    "| student_id    | int     |\n",
    "| student_name  | varchar |\n",
    "+---------------+---------+</pre>\n",
    "student_id is the primary key (column with unique values) for this table.\n",
    "Each row of this table contains the ID and the name of one student in the school.\n",
    " \n",
    "\n",
    "Table: Subjects\n",
    "\n",
    "<pre>+--------------+---------+\n",
    "| Column Name  | Type    |\n",
    "+--------------+---------+\n",
    "| subject_name | varchar |\n",
    "+--------------+---------+</pre>\n",
    "subject_name is the primary key (column with unique values) for this table.\n",
    "Each row of this table contains the name of one subject in the school.\n",
    " \n",
    "\n",
    "Table: Examinations\n",
    "\n",
    "<pre>+--------------+---------+\n",
    "| Column Name  | Type    |\n",
    "+--------------+---------+\n",
    "| student_id   | int     |\n",
    "| subject_name | varchar |\n",
    "+--------------+---------+</pre>\n",
    "There is no primary key (column with unique values) for this table. It may contain duplicates.\n",
    "Each student from the Students table takes every course from the Subjects table.\n",
    "Each row of this table indicates that a student with ID student_id attended the exam of subject_name.\n",
    " \n",
    "\n",
    "Write a solution to find the number of times each student attended each exam.\n",
    "\n",
    "Return the result table ordered by student_id and subject_name.\n",
    "\n",
    "The result format is in the following example.\n",
    "\n",
    " \n",
    "\n",
    "Example 1:\n",
    "\n",
    "Input: \n",
    "Students table:\n",
    "<pre>+------------+--------------+\n",
    "| student_id | student_name |\n",
    "+------------+--------------+\n",
    "| 1          | Alice        |\n",
    "| 2          | Bob          |\n",
    "| 13         | John         |\n",
    "| 6          | Alex         |\n",
    "+------------+--------------+</pre>\n",
    "Subjects table:\n",
    "<pre>+--------------+\n",
    "| subject_name |\n",
    "+--------------+\n",
    "| Math         |\n",
    "| Physics      |\n",
    "| Programming  |\n",
    "+--------------+</pre>\n",
    "Examinations table:\n",
    "<pre>+------------+--------------+\n",
    "| student_id | subject_name |\n",
    "+------------+--------------+\n",
    "| 1          | Math         |\n",
    "| 1          | Physics      |\n",
    "| 1          | Programming  |\n",
    "| 2          | Programming  |\n",
    "| 1          | Physics      |\n",
    "| 1          | Math         |\n",
    "| 13         | Math         |\n",
    "| 13         | Programming  |\n",
    "| 13         | Physics      |\n",
    "| 2          | Math         |\n",
    "| 1          | Math         |\n",
    "+------------+--------------+</pre>\n",
    "Output: \n",
    "<pre>+------------+--------------+--------------+----------------+\n",
    "| student_id | student_name | subject_name | attended_exams |\n",
    "+------------+--------------+--------------+----------------+\n",
    "| 1          | Alice        | Math         | 3              |\n",
    "| 1          | Alice        | Physics      | 2              |\n",
    "| 1          | Alice        | Programming  | 1              |\n",
    "| 2          | Bob          | Math         | 1              |\n",
    "| 2          | Bob          | Physics      | 0              |\n",
    "| 2          | Bob          | Programming  | 1              |\n",
    "| 6          | Alex         | Math         | 0              |\n",
    "| 6          | Alex         | Physics      | 0              |\n",
    "| 6          | Alex         | Programming  | 0              |\n",
    "| 13         | John         | Math         | 1              |\n",
    "| 13         | John         | Physics      | 1              |\n",
    "| 13         | John         | Programming  | 1              |\n",
    "+------------+--------------+--------------+----------------+</pre>\n",
    "Explanation: \n",
    "The result table should contain all students and all subjects.\n",
    "Alice attended the Math exam 3 times, the Physics exam 2 times, and the Programming exam 1 time.\n",
    "Bob attended the Math exam 1 time, the Programming exam 1 time, and did not attend the Physics exam.\n",
    "Alex did not attend any exams.\n",
    "John attended the Math exam 1 time, the Physics exam 1 time, and the Programming exam 1 time."
   ]
  },
  {
   "cell_type": "code",
   "execution_count": 35,
   "id": "2ecf835d6abee511",
   "metadata": {
    "ExecuteTime": {
     "end_time": "2023-11-05T19:00:01.858511Z",
     "start_time": "2023-11-05T19:00:01.252491500Z"
    },
    "collapsed": false
   },
   "outputs": [],
   "source": [
    "# Pandas Schema\n",
    "\n",
    "import pandas as pd\n",
    "\n",
    "data = [[1, 'Alice'], [2, 'Bob'], [13, 'John'], [6, 'Alex']]\n",
    "students = pd.DataFrame(data, columns=['student_id', 'student_name']).astype(\n",
    "    {'student_id': 'Int64', 'student_name': 'object'})\n",
    "data = [['Math'], ['Physics'], ['Programming']]\n",
    "subjects = pd.DataFrame(data, columns=['subject_name']).astype({'subject_name': 'object'})\n",
    "data = [[1, 'Math'], [1, 'Physics'], [1, 'Programming'], [2, 'Programming'], [1, 'Physics'], [1, 'Math'], [13, 'Math'],\n",
    "        [13, 'Programming'], [13, 'Physics'], [2, 'Math'], [1, 'Math']]\n",
    "examinations = pd.DataFrame(data, columns=['student_id', 'subject_name']).astype(\n",
    "    {'student_id': 'Int64', 'subject_name': 'object'})\n",
    "\n",
    "\n",
    "# Pyspark conversion\n",
    "\n",
    "#Importing the packages\n",
    "from pyspark.sql import SparkSession\n",
    "from pyspark.sql.types import *\n",
    "from pyspark.sql.functions import *\n",
    "\n",
    "spark = SparkSession.builder.getOrCreate()\n",
    "\n",
    "students_df = spark.createDataFrame(students)\n",
    "subjects_df = spark.createDataFrame(subjects)\n",
    "examinations_df = spark.createDataFrame(examinations)"
   ]
  },
  {
   "cell_type": "code",
   "execution_count": 36,
   "id": "65b6382159f26076",
   "metadata": {
    "ExecuteTime": {
     "end_time": "2023-11-05T19:00:18.271646900Z",
     "start_time": "2023-11-05T19:00:14.052795300Z"
    },
    "collapsed": false
   },
   "outputs": [
    {
     "data": {
      "text/html": [
       "<div>\n",
       "<style scoped>\n",
       "    .dataframe tbody tr th:only-of-type {\n",
       "        vertical-align: middle;\n",
       "    }\n",
       "\n",
       "    .dataframe tbody tr th {\n",
       "        vertical-align: top;\n",
       "    }\n",
       "\n",
       "    .dataframe thead th {\n",
       "        text-align: right;\n",
       "    }\n",
       "</style>\n",
       "<table border=\"1\" class=\"dataframe\">\n",
       "  <thead>\n",
       "    <tr style=\"text-align: right;\">\n",
       "      <th></th>\n",
       "      <th>student_id</th>\n",
       "      <th>student_name</th>\n",
       "    </tr>\n",
       "  </thead>\n",
       "  <tbody>\n",
       "    <tr>\n",
       "      <th>0</th>\n",
       "      <td>1</td>\n",
       "      <td>Alice</td>\n",
       "    </tr>\n",
       "    <tr>\n",
       "      <th>1</th>\n",
       "      <td>2</td>\n",
       "      <td>Bob</td>\n",
       "    </tr>\n",
       "    <tr>\n",
       "      <th>2</th>\n",
       "      <td>13</td>\n",
       "      <td>John</td>\n",
       "    </tr>\n",
       "    <tr>\n",
       "      <th>3</th>\n",
       "      <td>6</td>\n",
       "      <td>Alex</td>\n",
       "    </tr>\n",
       "  </tbody>\n",
       "</table>\n",
       "</div>"
      ],
      "text/plain": [
       "   student_id student_name\n",
       "0           1        Alice\n",
       "1           2          Bob\n",
       "2          13         John\n",
       "3           6         Alex"
      ]
     },
     "execution_count": 36,
     "metadata": {},
     "output_type": "execute_result"
    }
   ],
   "source": [
    "students"
   ]
  },
  {
   "cell_type": "code",
   "execution_count": 37,
   "id": "d6f2669ecef678df",
   "metadata": {
    "ExecuteTime": {
     "end_time": "2023-11-05T19:00:19.371160600Z",
     "start_time": "2023-11-05T19:00:18.266227400Z"
    },
    "collapsed": false
   },
   "outputs": [
    {
     "data": {
      "text/html": [
       "<div>\n",
       "<style scoped>\n",
       "    .dataframe tbody tr th:only-of-type {\n",
       "        vertical-align: middle;\n",
       "    }\n",
       "\n",
       "    .dataframe tbody tr th {\n",
       "        vertical-align: top;\n",
       "    }\n",
       "\n",
       "    .dataframe thead th {\n",
       "        text-align: right;\n",
       "    }\n",
       "</style>\n",
       "<table border=\"1\" class=\"dataframe\">\n",
       "  <thead>\n",
       "    <tr style=\"text-align: right;\">\n",
       "      <th></th>\n",
       "      <th>subject_name</th>\n",
       "    </tr>\n",
       "  </thead>\n",
       "  <tbody>\n",
       "    <tr>\n",
       "      <th>0</th>\n",
       "      <td>Math</td>\n",
       "    </tr>\n",
       "    <tr>\n",
       "      <th>1</th>\n",
       "      <td>Physics</td>\n",
       "    </tr>\n",
       "    <tr>\n",
       "      <th>2</th>\n",
       "      <td>Programming</td>\n",
       "    </tr>\n",
       "  </tbody>\n",
       "</table>\n",
       "</div>"
      ],
      "text/plain": [
       "  subject_name\n",
       "0         Math\n",
       "1      Physics\n",
       "2  Programming"
      ]
     },
     "execution_count": 37,
     "metadata": {},
     "output_type": "execute_result"
    }
   ],
   "source": [
    "subjects"
   ]
  },
  {
   "cell_type": "code",
   "execution_count": 38,
   "id": "ddd16774bb671c06",
   "metadata": {
    "ExecuteTime": {
     "end_time": "2023-11-05T19:00:20.424446600Z",
     "start_time": "2023-11-05T19:00:19.365308700Z"
    },
    "collapsed": false
   },
   "outputs": [
    {
     "data": {
      "text/html": [
       "<div>\n",
       "<style scoped>\n",
       "    .dataframe tbody tr th:only-of-type {\n",
       "        vertical-align: middle;\n",
       "    }\n",
       "\n",
       "    .dataframe tbody tr th {\n",
       "        vertical-align: top;\n",
       "    }\n",
       "\n",
       "    .dataframe thead th {\n",
       "        text-align: right;\n",
       "    }\n",
       "</style>\n",
       "<table border=\"1\" class=\"dataframe\">\n",
       "  <thead>\n",
       "    <tr style=\"text-align: right;\">\n",
       "      <th></th>\n",
       "      <th>student_id</th>\n",
       "      <th>subject_name</th>\n",
       "    </tr>\n",
       "  </thead>\n",
       "  <tbody>\n",
       "    <tr>\n",
       "      <th>0</th>\n",
       "      <td>1</td>\n",
       "      <td>Math</td>\n",
       "    </tr>\n",
       "    <tr>\n",
       "      <th>1</th>\n",
       "      <td>1</td>\n",
       "      <td>Physics</td>\n",
       "    </tr>\n",
       "    <tr>\n",
       "      <th>2</th>\n",
       "      <td>1</td>\n",
       "      <td>Programming</td>\n",
       "    </tr>\n",
       "    <tr>\n",
       "      <th>3</th>\n",
       "      <td>2</td>\n",
       "      <td>Programming</td>\n",
       "    </tr>\n",
       "    <tr>\n",
       "      <th>4</th>\n",
       "      <td>1</td>\n",
       "      <td>Physics</td>\n",
       "    </tr>\n",
       "    <tr>\n",
       "      <th>5</th>\n",
       "      <td>1</td>\n",
       "      <td>Math</td>\n",
       "    </tr>\n",
       "    <tr>\n",
       "      <th>6</th>\n",
       "      <td>13</td>\n",
       "      <td>Math</td>\n",
       "    </tr>\n",
       "    <tr>\n",
       "      <th>7</th>\n",
       "      <td>13</td>\n",
       "      <td>Programming</td>\n",
       "    </tr>\n",
       "    <tr>\n",
       "      <th>8</th>\n",
       "      <td>13</td>\n",
       "      <td>Physics</td>\n",
       "    </tr>\n",
       "    <tr>\n",
       "      <th>9</th>\n",
       "      <td>2</td>\n",
       "      <td>Math</td>\n",
       "    </tr>\n",
       "    <tr>\n",
       "      <th>10</th>\n",
       "      <td>1</td>\n",
       "      <td>Math</td>\n",
       "    </tr>\n",
       "  </tbody>\n",
       "</table>\n",
       "</div>"
      ],
      "text/plain": [
       "    student_id subject_name\n",
       "0            1         Math\n",
       "1            1      Physics\n",
       "2            1  Programming\n",
       "3            2  Programming\n",
       "4            1      Physics\n",
       "5            1         Math\n",
       "6           13         Math\n",
       "7           13  Programming\n",
       "8           13      Physics\n",
       "9            2         Math\n",
       "10           1         Math"
      ]
     },
     "execution_count": 38,
     "metadata": {},
     "output_type": "execute_result"
    }
   ],
   "source": [
    "examinations"
   ]
  },
  {
   "cell_type": "code",
   "execution_count": 44,
   "id": "75b54094cc39f982",
   "metadata": {
    "ExecuteTime": {
     "end_time": "2023-11-05T19:00:31.472692800Z",
     "start_time": "2023-11-05T19:00:20.416638900Z"
    },
    "collapsed": false
   },
   "outputs": [
    {
     "name": "stdout",
     "output_type": "stream",
     "text": [
      "+----------+------------+------------+--------------+\n",
      "|student_id|student_name|subject_name|attended_exams|\n",
      "+----------+------------+------------+--------------+\n",
      "|         1|       Alice|        Math|             3|\n",
      "|         1|       Alice|     Physics|             2|\n",
      "|         1|       Alice| Programming|             1|\n",
      "|         2|         Bob|        Math|             1|\n",
      "|         2|         Bob|     Physics|             0|\n",
      "|         2|         Bob| Programming|             1|\n",
      "|         6|        Alex|        Math|             0|\n",
      "|         6|        Alex|     Physics|             0|\n",
      "|         6|        Alex| Programming|             0|\n",
      "|        13|        John|        Math|             1|\n",
      "|        13|        John|     Physics|             1|\n",
      "|        13|        John| Programming|             1|\n",
      "+----------+------------+------------+--------------+\n",
      "\n"
     ]
    }
   ],
   "source": [
    "# In spark Dataframe\n",
    "studentse_df=students_df.crossJoin(subjects_df)\n",
    "studentse_df.alias('s').join(examinations_df.alias('e'),(col('s.student_id') == col('e.student_id')) & (col('s.subject_name') == col('e.subject_name')),'left')\\\n",
    "            .groupby('s.student_id', 'student_name', 's.subject_name')\\\n",
    "            .agg(count(col('e.subject_name')).alias('attended_exams'))\\\n",
    "            .select('s.student_id', 'student_name', 's.subject_name','attended_exams')\\\n",
    "            .orderBy('s.student_id', 's.subject_name',)\\\n",
    "            .show()\\\n",
    "    \n"
   ]
  },
  {
   "cell_type": "code",
   "execution_count": 15,
   "id": "957ae3da85d6a42a",
   "metadata": {
    "ExecuteTime": {
     "end_time": "2023-11-05T19:00:41.165929600Z",
     "start_time": "2023-11-05T19:00:31.468207700Z"
    },
    "collapsed": false
   },
   "outputs": [
    {
     "name": "stdout",
     "output_type": "stream",
     "text": [
      "+----------+------------+------------+--------------+\n",
      "|student_id|student_name|subject_name|attended_exams|\n",
      "+----------+------------+------------+--------------+\n",
      "|         1|       Alice|        Math|             3|\n",
      "|         1|       Alice|     Physics|             2|\n",
      "|         1|       Alice| Programming|             1|\n",
      "|         2|         Bob|        Math|             1|\n",
      "|         2|         Bob|     Physics|             0|\n",
      "|         2|         Bob| Programming|             1|\n",
      "|         6|        Alex|        Math|             0|\n",
      "|         6|        Alex|     Physics|             0|\n",
      "|         6|        Alex| Programming|             0|\n",
      "|        13|        John|        Math|             1|\n",
      "|        13|        John|     Physics|             1|\n",
      "|        13|        John| Programming|             1|\n",
      "+----------+------------+------------+--------------+\n",
      "\n"
     ]
    }
   ],
   "source": [
    "# In spark SQL\n",
    "\n",
    "students_df.createOrReplaceTempView('students')\n",
    "subjects_df.createOrReplaceTempView('subjects')\n",
    "examinations_df.createOrReplaceTempView('examinations')\n",
    "\n",
    "spark.sql('''\n",
    "    select s.student_id, student_name, su.subject_name,count(e.subject_name) as attended_exams\n",
    "from \n",
    "    students s cross join subjects su\n",
    "left join\n",
    "    examinations e on s.student_id = e.student_id and su.subject_name = e.subject_name\n",
    "\n",
    "group by s.student_id, student_name, su.subject_name\n",
    "order by s.student_id,su.subject_name\n",
    "''').show()"
   ]
  },
  {
   "cell_type": "code",
   "execution_count": 8,
   "id": "ccc47d0308475dda",
   "metadata": {
    "ExecuteTime": {
     "end_time": "2023-11-05T19:00:42.079636100Z",
     "start_time": "2023-11-05T19:00:41.163660400Z"
    },
    "collapsed": false
   },
   "outputs": [],
   "source": [
    "spark.stop()"
   ]
  }
 ],
 "metadata": {
  "kernelspec": {
   "display_name": "Python 3",
   "language": "python",
   "name": "python3"
  },
  "language_info": {
   "codemirror_mode": {
    "name": "ipython",
    "version": 3
   },
   "file_extension": ".py",
   "mimetype": "text/x-python",
   "name": "python",
   "nbconvert_exporter": "python",
   "pygments_lexer": "ipython3",
   "version": "3.11.0"
  }
 },
 "nbformat": 4,
 "nbformat_minor": 5
}
